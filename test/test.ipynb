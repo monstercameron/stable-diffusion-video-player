{
 "cells": [
  {
   "cell_type": "code",
   "execution_count": 1,
   "metadata": {},
   "outputs": [
    {
     "name": "stderr",
     "output_type": "stream",
     "text": [
      "c:\\Users\\Cam_ws_win\\.conda\\envs\\stablevideo\\lib\\site-packages\\tqdm\\auto.py:21: TqdmWarning: IProgress not found. Please update jupyter and ipywidgets. See https://ipywidgets.readthedocs.io/en/stable/user_install.html\n",
      "  from .autonotebook import tqdm as notebook_tqdm\n",
      "A matching Triton is not available, some optimizations will not be enabled.\n",
      "Error caught was: No module named 'triton'\n"
     ]
    }
   ],
   "source": [
    "from pathlib import Path\n",
    "import torch\n",
    "from PIL import Image\n",
    "from diffusers import StableDiffusionPipeline\n",
    "from diffusers import StableDiffusionImg2ImgPipeline\n"
   ]
  },
  {
   "cell_type": "code",
   "execution_count": 49,
   "metadata": {},
   "outputs": [],
   "source": [
    "# Load the stable diffusion model\n",
    "pipe = StableDiffusionImg2ImgPipeline.from_pretrained(\n",
    "    \"stabilityai/stable-diffusion-2-1\",\n",
    "    revision=\"fp16\",\n",
    "    torch_dtype=torch.float16,\n",
    ").to(\"cuda\")\n"
   ]
  },
  {
   "cell_type": "code",
   "execution_count": 50,
   "metadata": {},
   "outputs": [
    {
     "data": {
      "text/plain": [
       "<torch._C.Generator at 0x2126cce9310>"
      ]
     },
     "execution_count": 50,
     "metadata": {},
     "output_type": "execute_result"
    }
   ],
   "source": [
    "\n",
    "# Set the random seed for reproducibility\n",
    "torch.manual_seed(1000)\n"
   ]
  },
  {
   "cell_type": "code",
   "execution_count": 51,
   "metadata": {},
   "outputs": [
    {
     "name": "stdout",
     "output_type": "stream",
     "text": [
      "['frame0001.png', 'frame0002.png', 'frame0003.png', 'frame0004.png', 'frame0005.png', 'frame0006.png', 'frame0007.png', 'frame0008.png', 'frame0009.png', 'frame0010.png', 'frame0011.png', 'frame0012.png', 'frame0013.png', 'frame0014.png', 'frame0015.png', 'frame0016.png', 'frame0017.png', 'frame0018.png', 'frame0019.png', 'frame0020.png', 'frame0021.png', 'frame0022.png', 'frame0023.png', 'frame0024.png', 'frame0025.png', 'frame0026.png', 'frame0027.png', 'frame0028.png', 'frame0029.png', 'frame0030.png', 'frame0031.png', 'frame0032.png', 'frame0033.png', 'frame0034.png', 'frame0035.png', 'frame0036.png', 'frame0037.png', 'frame0038.png', 'frame0039.png', 'frame0040.png', 'frame0041.png', 'frame0042.png', 'frame0043.png', 'frame0044.png', 'frame0045.png', 'frame0046.png', 'frame0047.png', 'frame0048.png', 'frame0049.png', 'frame0050.png', 'frame0051.png', 'frame0052.png', 'frame0053.png', 'frame0054.png', 'frame0055.png', 'frame0056.png', 'frame0057.png', 'frame0058.png', 'frame0059.png', 'frame0060.png', 'frame0061.png', 'frame0062.png', 'frame0063.png', 'frame0064.png', 'frame0065.png', 'frame0066.png', 'frame0067.png', 'frame0068.png', 'frame0069.png', 'frame0070.png', 'frame0071.png', 'frame0072.png', 'frame0073.png', 'frame0074.png', 'frame0075.png', 'frame0076.png', 'frame0077.png', 'frame0078.png', 'frame0079.png', 'frame0080.png', 'frame0081.png', 'frame0082.png', 'frame0083.png', 'frame0084.png', 'frame0085.png', 'frame0086.png', 'frame0087.png', 'frame0088.png', 'frame0089.png', 'frame0090.png', 'frame0091.png', 'frame0092.png', 'frame0093.png', 'frame0094.png', 'frame0095.png', 'frame0096.png', 'frame0097.png', 'frame0098.png', 'frame0099.png', 'frame0100.png', 'frame0101.png', 'frame0102.png', 'frame0103.png', 'frame0104.png', 'frame0105.png', 'frame0106.png', 'frame0107.png', 'frame0108.png', 'frame0109.png', 'frame0110.png', 'frame0111.png', 'frame0112.png', 'frame0113.png', 'frame0114.png', 'frame0115.png', 'frame0116.png', 'frame0117.png', 'frame0118.png', 'frame0119.png', 'frame0120.png', 'frame0121.png', 'frame0122.png', 'frame0123.png', 'frame0124.png', 'frame0125.png', 'frame0126.png', 'frame0127.png', 'frame0128.png', 'frame0129.png', 'frame0130.png', 'frame0131.png', 'frame0132.png', 'frame0133.png', 'frame0134.png', 'frame0135.png', 'frame0136.png', 'frame0137.png', 'frame0138.png', 'frame0139.png', 'frame0140.png', 'frame0141.png', 'frame0142.png', 'frame0143.png', 'frame0144.png', 'frame0145.png', 'frame0146.png', 'frame0147.png', 'frame0148.png', 'frame0149.png', 'frame0150.png', 'frame0151.png', 'frame0152.png', 'frame0153.png', 'frame0154.png', 'frame0155.png', 'frame0156.png', 'frame0157.png', 'frame0158.png', 'frame0159.png', 'frame0160.png', 'frame0161.png', 'frame0162.png', 'frame0163.png', 'frame0164.png', 'frame0165.png', 'frame0166.png', 'frame0167.png', 'frame0168.png', 'frame0169.png', 'frame0170.png', 'frame0171.png', 'frame0172.png', 'frame0173.png', 'frame0174.png', 'frame0175.png', 'frame0176.png', 'frame0177.png', 'frame0178.png', 'frame0179.png', 'frame0180.png', 'frame0181.png', 'frame0182.png', 'frame0183.png', 'frame0184.png', 'frame0185.png', 'frame0186.png', 'frame0187.png', 'frame0188.png', 'frame0189.png', 'frame0190.png', 'frame0191.png', 'frame0192.png', 'frame0193.png', 'frame0194.png', 'frame0195.png', 'frame0196.png', 'frame0197.png', 'frame0198.png', 'frame0199.png', 'frame0200.png', 'frame0201.png', 'frame0202.png', 'frame0203.png', 'frame0204.png', 'frame0205.png', 'frame0206.png', 'frame0207.png', 'frame0208.png', 'frame0209.png', 'frame0210.png', 'frame0211.png', 'frame0212.png', 'frame0213.png', 'frame0214.png', 'frame0215.png', 'frame0216.png', 'frame0217.png', 'frame0218.png', 'frame0219.png', 'frame0220.png', 'frame0221.png', 'frame0222.png', 'frame0223.png', 'frame0224.png', 'frame0225.png', 'frame0226.png', 'frame0227.png', 'frame0228.png', 'frame0229.png', 'frame0230.png', 'frame0231.png', 'frame0232.png', 'frame0233.png', 'frame0234.png', 'frame0235.png', 'frame0236.png', 'frame0237.png', 'frame0238.png', 'frame0239.png', 'frame0240.png', 'frame0241.png', 'frame0242.png', 'frame0243.png', 'frame0244.png', 'frame0245.png', 'frame0246.png', 'frame0247.png', 'frame0248.png', 'frame0249.png', 'frame0250.png', 'frame0251.png', 'frame0252.png', 'frame0253.png', 'frame0254.png', 'frame0255.png', 'frame0256.png', 'frame0257.png', 'frame0258.png', 'frame0259.png', 'frame0260.png', 'frame0261.png', 'frame0262.png', 'frame0263.png', 'frame0264.png', 'frame0265.png', 'frame0266.png', 'frame0267.png', 'frame0268.png', 'frame0269.png', 'frame0270.png', 'frame0271.png', 'frame0272.png', 'frame0273.png', 'frame0274.png', 'frame0275.png', 'frame0276.png', 'frame0277.png', 'frame0278.png', 'frame0279.png', 'frame0280.png', 'frame0281.png', 'frame0282.png', 'frame0283.png', 'frame0284.png', 'frame0285.png', 'frame0286.png', 'frame0287.png', 'frame0288.png', 'frame0289.png', 'frame0290.png', 'frame0291.png', 'frame0292.png', 'frame0293.png', 'frame0294.png', 'frame0295.png', 'frame0296.png', 'frame0297.png', 'frame0298.png', 'frame0299.png', 'frame0300.png', 'frame0301.png', 'frame0302.png', 'frame0303.png', 'frame0304.png', 'frame0305.png', 'frame0306.png', 'frame0307.png', 'frame0308.png', 'frame0309.png', 'frame0310.png', 'frame0311.png', 'frame0312.png', 'frame0313.png', 'frame0314.png', 'frame0315.png', 'frame0316.png', 'frame0317.png', 'frame0318.png']\n"
     ]
    }
   ],
   "source": [
    "import os\n",
    "folder_path = \"./frames\"  # Replace with the path to your folder\n",
    "file_names = []\n",
    "for file in os.listdir(folder_path):\n",
    "    if os.path.isfile(os.path.join(folder_path, file)):\n",
    "        file_names.append(file)\n",
    "\n",
    "print(file_names)\n"
   ]
  },
  {
   "cell_type": "code",
   "execution_count": 2,
   "metadata": {},
   "outputs": [],
   "source": [
    "output_path = './output'\n",
    "\n",
    "\n",
    "def generate_image(pipe, image, output_path, prompt):\n",
    "    print(f'image --> {image}')\n",
    "    image_loaded = Image.open(f'{folder_path}/{image}').convert(\"RGB\")\n",
    "    images = pipe(prompt=prompt, image=image_loaded,\n",
    "                  strength=0.7, guidance_scale=1.5,\n",
    "                  num_inference_steps=10).images\n",
    "    images[0].save(f'{output_path}/{image}')\n"
   ]
  },
  {
   "cell_type": "code",
   "execution_count": 53,
   "metadata": {},
   "outputs": [
    {
     "name": "stdout",
     "output_type": "stream",
     "text": [
      "image --> frame0001.png\n"
     ]
    },
    {
     "name": "stderr",
     "output_type": "stream",
     "text": [
      "100%|██████████| 7/7 [00:00<00:00, 12.28it/s]\n"
     ]
    },
    {
     "name": "stdout",
     "output_type": "stream",
     "text": [
      "image --> frame0002.png\n"
     ]
    },
    {
     "name": "stderr",
     "output_type": "stream",
     "text": [
      "100%|██████████| 7/7 [00:00<00:00, 12.02it/s]\n"
     ]
    },
    {
     "name": "stdout",
     "output_type": "stream",
     "text": [
      "image --> frame0003.png\n"
     ]
    },
    {
     "name": "stderr",
     "output_type": "stream",
     "text": [
      "100%|██████████| 7/7 [00:00<00:00, 12.09it/s]\n"
     ]
    },
    {
     "name": "stdout",
     "output_type": "stream",
     "text": [
      "image --> frame0004.png\n"
     ]
    },
    {
     "name": "stderr",
     "output_type": "stream",
     "text": [
      "100%|██████████| 7/7 [00:00<00:00, 12.59it/s]\n"
     ]
    },
    {
     "name": "stdout",
     "output_type": "stream",
     "text": [
      "image --> frame0005.png\n"
     ]
    },
    {
     "name": "stderr",
     "output_type": "stream",
     "text": [
      "100%|██████████| 7/7 [00:00<00:00, 12.77it/s]\n"
     ]
    },
    {
     "name": "stdout",
     "output_type": "stream",
     "text": [
      "image --> frame0006.png\n"
     ]
    },
    {
     "name": "stderr",
     "output_type": "stream",
     "text": [
      "100%|██████████| 7/7 [00:00<00:00, 12.61it/s]\n"
     ]
    },
    {
     "name": "stdout",
     "output_type": "stream",
     "text": [
      "image --> frame0007.png\n"
     ]
    },
    {
     "name": "stderr",
     "output_type": "stream",
     "text": [
      "100%|██████████| 7/7 [00:00<00:00, 12.39it/s]\n"
     ]
    },
    {
     "name": "stdout",
     "output_type": "stream",
     "text": [
      "image --> frame0008.png\n"
     ]
    },
    {
     "name": "stderr",
     "output_type": "stream",
     "text": [
      "100%|██████████| 7/7 [00:00<00:00, 12.12it/s]\n"
     ]
    },
    {
     "name": "stdout",
     "output_type": "stream",
     "text": [
      "image --> frame0009.png\n"
     ]
    },
    {
     "name": "stderr",
     "output_type": "stream",
     "text": [
      "100%|██████████| 7/7 [00:00<00:00, 12.46it/s]\n"
     ]
    },
    {
     "name": "stdout",
     "output_type": "stream",
     "text": [
      "image --> frame0010.png\n"
     ]
    },
    {
     "name": "stderr",
     "output_type": "stream",
     "text": [
      "100%|██████████| 7/7 [00:00<00:00, 12.46it/s]\n"
     ]
    }
   ],
   "source": [
    "first_10_items = file_names[:10]\n",
    "prompt = 'anime'\n",
    "for item in first_10_items:\n",
    "    generate_image(pipe, item, output_path, prompt)\n"
   ]
  },
  {
   "cell_type": "code",
   "execution_count": null,
   "metadata": {},
   "outputs": [],
   "source": [
    "#!/bin/bash\n",
    "\n",
    "# Specify the path to the folder containing frames\n",
    "FRAMES_DIR=output_path\n",
    "\n",
    "# Specify the output filename\n",
    "OUTPUT_FILE=\"output.mp4\"\n",
    "\n",
    "# Use ffmpeg to convert the frames into an mp4 file\n",
    "ffmpeg -framerate 30 -pattern_type glob -i \"$FRAMES_DIR/*.jpg\" -c:v libx264 -pix_fmt yuv420p \"$OUTPUT_FILE\"\n"
   ]
  },
  {
   "cell_type": "code",
   "execution_count": 5,
   "metadata": {},
   "outputs": [
    {
     "data": {
      "text/plain": [
       "str"
      ]
     },
     "execution_count": 5,
     "metadata": {},
     "output_type": "execute_result"
    }
   ],
   "source": [
    "import os\n",
    "FRAMES = os.environ.get('FRAMES')\n",
    "OUTPUT = os.environ.get('OUTPUT')\n",
    "VIDEO = os.environ.get('VIDEO')\n",
    "MODEL = os.environ.get('MODEL')\n",
    "type(MODEL) "
   ]
  }
 ],
 "metadata": {
  "kernelspec": {
   "display_name": "stablevideo",
   "language": "python",
   "name": "python3"
  },
  "language_info": {
   "codemirror_mode": {
    "name": "ipython",
    "version": 3
   },
   "file_extension": ".py",
   "mimetype": "text/x-python",
   "name": "python",
   "nbconvert_exporter": "python",
   "pygments_lexer": "ipython3",
   "version": "3.10.10"
  },
  "orig_nbformat": 4
 },
 "nbformat": 4,
 "nbformat_minor": 2
}
